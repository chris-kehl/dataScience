{
 "cells": [
  {
   "cell_type": "code",
   "execution_count": null,
   "metadata": {},
   "outputs": [],
   "source": [
    "import warnings\n",
    "import os, sys\n",
    "import pandas as pd\n",
    "import numpy as np\n",
    "import statsmodels.api as sm\n",
    "import matplotlib.pyplot as plt\n",
    "\n",
    "from datetime import datetime\n",
    "from pmdarima import auto_arima\n",
    "import yfinance as yf\n",
    "from statsmodels.tsa.seasonal import Seasonal_decompose\n",
    "from statsmodels.tsa.stattools import adfuller\n",
    "from sklearn import metrics\n",
    "warnings.filterwarnings(\"ignore\")\n",
    "\n"
   ]
  },
  {
   "cell_type": "code",
   "execution_count": null,
   "metadata": {},
   "outputs": [],
   "source": [
    "os.getcwd()"
   ]
  },
  {
   "cell_type": "code",
   "execution_count": null,
   "metadata": {},
   "outputs": [],
   "source": [
    "os.chdir('/Users/chriskehl/Library/Mobile Documents/com~apple~CloudDocs/data_files/timeSeries')"
   ]
  },
  {
   "cell_type": "code",
   "execution_count": null,
   "metadata": {},
   "outputs": [],
   "source": [
    "os.getcwd()"
   ]
  },
  {
   "cell_type": "code",
   "execution_count": null,
   "metadata": {},
   "outputs": [],
   "source": [
    "# Download Fisker stock\n",
    "data = yf.download('FSR','2020-07-01','2021-03-09')"
   ]
  },
  {
   "cell_type": "code",
   "execution_count": null,
   "metadata": {},
   "outputs": [],
   "source": [
    "# View of the first few trading days of Fisker stock (FSR) \n",
    "data.head()"
   ]
  },
  {
   "cell_type": "code",
   "execution_count": null,
   "metadata": {},
   "outputs": [],
   "source": [
    "# Look at the last few days of Fisker stock (FSR) \n",
    "data.tail()"
   ]
  },
  {
   "cell_type": "code",
   "execution_count": null,
   "metadata": {},
   "outputs": [],
   "source": [
    "data['Close'].plot(label='FSR', figsize=(16,9), title='Fisker Closing Price')"
   ]
  },
  {
   "cell_type": "code",
   "execution_count": null,
   "metadata": {},
   "outputs": [],
   "source": [
    "# Our timeSeries model will only be done on the closing column.\n",
    "# The training set will have all the data expected for the last 30 days\n",
    "# The the test contains only the last 30 days to evaluate against predictions.\n",
    "\n",
    "X = data['Close']\n",
    "test = X.iloc[-30:]\n",
    "train = X.iloc[:-30]"
   ]
  },
  {
   "cell_type": "code",
   "execution_count": 10,
   "metadata": {},
   "outputs": [
    {
     "name": "stdout",
     "output_type": "stream",
     "text": [
      "Date\n",
      "2021-01-25    14.620000\n",
      "2021-01-26    15.330000\n",
      "2021-01-27    16.629999\n",
      "2021-01-28    15.460000\n",
      "2021-01-29    15.030000\n",
      "2021-02-01    14.960000\n",
      "2021-02-02    14.850000\n",
      "2021-02-03    14.890000\n",
      "2021-02-04    15.200000\n",
      "2021-02-05    14.990000\n",
      "2021-02-08    14.930000\n",
      "2021-02-09    15.740000\n",
      "2021-02-10    15.640000\n",
      "2021-02-11    15.440000\n",
      "2021-02-12    18.990000\n",
      "2021-02-16    19.459999\n",
      "2021-02-17    18.920000\n",
      "2021-02-18    18.129999\n",
      "2021-02-19    17.990000\n",
      "2021-02-22    18.120001\n",
      "2021-02-23    16.290001\n",
      "2021-02-24    22.580000\n",
      "2021-02-25    21.580000\n",
      "2021-02-26    28.500000\n",
      "2021-03-01    27.379999\n",
      "2021-03-02    28.250000\n",
      "2021-03-03    24.480000\n",
      "2021-03-04    22.580000\n",
      "2021-03-05    21.299999\n",
      "2021-03-08    21.740000\n",
      "Name: Close, dtype: float64\n"
     ]
    }
   ],
   "source": [
    "# view of the test data\n",
    "print(test)"
   ]
  },
  {
   "cell_type": "code",
   "execution_count": 11,
   "metadata": {},
   "outputs": [
    {
     "name": "stdout",
     "output_type": "stream",
     "text": [
      "Date\n",
      "2020-07-01    10.71\n",
      "2020-07-02    10.85\n",
      "2020-07-06    10.93\n",
      "2020-07-07    10.71\n",
      "2020-07-08    10.81\n",
      "              ...  \n",
      "2021-01-15    15.07\n",
      "2021-01-19    15.13\n",
      "2021-01-20    14.77\n",
      "2021-01-21    14.99\n",
      "2021-01-22    14.86\n",
      "Name: Close, Length: 142, dtype: float64\n"
     ]
    }
   ],
   "source": [
    "# View of the train data\n",
    "print(train)"
   ]
  },
  {
   "cell_type": "code",
   "execution_count": 12,
   "metadata": {},
   "outputs": [],
   "source": [
    "# Find the best smoothing parameter ranging from 0 - 1\n",
    "def timeseries_evaluation_metrics_func(y_true, y_pred):\n",
    "    \n",
    "    def mean_absolute_percentage_error(y_true, y_pred):\n",
    "        y_true, y_pred = np.array(y_true), np.array(y_pred)\n",
    "        return np.mean(np.abs((y_true - y_pred)/ y_true)) *100\n",
    "    print('Evaluation metric results:-')\n",
    "    print(f'MAE is : {metrics.mean_squared_error(y_true, y_pred)}')\n",
    "    print(f'RMSE is : {np.sqrt(metrics.mean_squared_error(y_true, y_pred))}')\n",
    "    print(f'MAPE is : {mean_absolute_percentage_error(y_true, y_pred)}')\n",
    "    print(f'R2 is : {metrics.r2_score(y_true, y_pred)}', end='\\n\\n')"
   ]
  },
  {
   "cell_type": "code",
   "execution_count": 13,
   "metadata": {},
   "outputs": [
    {
     "name": "stdout",
     "output_type": "stream",
     "text": [
      "Fitting for smoothing level= 0\n",
      "Fitting for smoothing level= 0.1\n",
      "Fitting for smoothing level= 0.2\n",
      "Fitting for smoothing level= 0.3\n",
      "Fitting for smoothing level= 0.4\n",
      "Fitting for smoothing level= 0.5\n",
      "Fitting for smoothing level= 0.6\n",
      "Fitting for smoothing level= 0.7\n",
      "Fitting for smoothing level= 0.8\n",
      "Fitting for smoothing level= 0.9\n",
      "Fitting for smoothing level= 1\n",
      "Evaluation metric results:-\n",
      "MAE is : 32.04434733993555\n",
      "RMSE is : 5.660772680468237\n",
      "MAPE is : 16.998004224441324\n",
      "R2 is : -0.8255106763373452\n",
      "\n"
     ]
    },
    {
     "name": "stderr",
     "output_type": "stream",
     "text": [
      "/Users/chriskehl/opt/anaconda3/lib/python3.8/site-packages/statsmodels/tsa/holtwinters/model.py:427: FutureWarning: After 0.13 initialization must be handled at model creation\n",
      "  warnings.warn(\n"
     ]
    },
    {
     "data": {
      "text/html": [
       "<div>\n",
       "<style scoped>\n",
       "    .dataframe tbody tr th:only-of-type {\n",
       "        vertical-align: middle;\n",
       "    }\n",
       "\n",
       "    .dataframe tbody tr th {\n",
       "        vertical-align: top;\n",
       "    }\n",
       "\n",
       "    .dataframe thead th {\n",
       "        text-align: right;\n",
       "    }\n",
       "</style>\n",
       "<table border=\"1\" class=\"dataframe\">\n",
       "  <thead>\n",
       "    <tr style=\"text-align: right;\">\n",
       "      <th></th>\n",
       "      <th>RMSE</th>\n",
       "      <th>smoothing parameter</th>\n",
       "    </tr>\n",
       "  </thead>\n",
       "  <tbody>\n",
       "    <tr>\n",
       "      <th>0</th>\n",
       "      <td>5.660773</td>\n",
       "      <td>1.0</td>\n",
       "    </tr>\n",
       "  </tbody>\n",
       "</table>\n",
       "</div>"
      ],
      "text/plain": [
       "       RMSE  smoothing parameter\n",
       "0  5.660773                  1.0"
      ]
     },
     "execution_count": 13,
     "metadata": {},
     "output_type": "execute_result"
    }
   ],
   "source": [
    "# Using a simple smoothing parameter to find the best fit 0 - 1\n",
    "\n",
    "resu = []\n",
    "temp_df = pd.DataFrame()\n",
    "for i in [0, 0.10, 0.20, 0.30, 0.40, 0.50, 0.60, 0.70, 0.80, 0.90, 1]:\n",
    "    print(f'Fitting for smoothing level= {i}')\n",
    "fit_v = SimpleExpSmoothing(np.asarray(train)).fit(i)\n",
    "fcst_pred_v= fit_v.forecast(30)\n",
    "timeseries_evaluation_metrics_func(test,fcst_pred_v)\n",
    "rmse = np.sqrt(metrics.mean_squared_error(test, fcst_pred_v))\n",
    "df3 = {'smoothing parameter':i, 'RMSE': rmse}\n",
    "temp_df = temp_df.append(df3, ignore_index=True)\n",
    "temp_df.sort_values(by=['RMSE']).head(3)"
   ]
  },
  {
   "cell_type": "code",
   "execution_count": 14,
   "metadata": {},
   "outputs": [
    {
     "name": "stdout",
     "output_type": "stream",
     "text": [
      "Evaluation metric results:-\n",
      "MAE is : 28.685263184319627\n",
      "RMSE is : 5.355862506106708\n",
      "MAPE is : 15.675869543053519\n",
      "R2 is : -0.6341495004100588\n",
      "\n"
     ]
    },
    {
     "name": "stderr",
     "output_type": "stream",
     "text": [
      "/Users/chriskehl/opt/anaconda3/lib/python3.8/site-packages/statsmodels/tsa/holtwinters/model.py:427: FutureWarning: After 0.13 initialization must be handled at model creation\n",
      "  warnings.warn(\n"
     ]
    }
   ],
   "source": [
    "# Train the data with SimpleExpSmoothing using the parameters \n",
    "# found from the best fit algorithm above\n",
    "\n",
    "fitSES = SimpleExpSmoothing(np.asarray(train)).fit(smoothing_level = 0.1,optimized= False)\n",
    "fcst_gs_pred = fitSES.forecast(30)\n",
    "timeseries_evaluation_metrics_func(test,fcst_gs_pred)"
   ]
  },
  {
   "cell_type": "code",
   "execution_count": 15,
   "metadata": {},
   "outputs": [
    {
     "name": "stdout",
     "output_type": "stream",
     "text": [
      "Evaluation metric results:-\n",
      "MAE is : 32.04434732518724\n",
      "RMSE is : 5.660772679165561\n",
      "MAPE is : 16.99800421535923\n",
      "R2 is : -0.8255106754971595\n",
      "\n"
     ]
    },
    {
     "name": "stderr",
     "output_type": "stream",
     "text": [
      "/Users/chriskehl/opt/anaconda3/lib/python3.8/site-packages/statsmodels/tsa/holtwinters/model.py:427: FutureWarning: After 0.13 initialization must be handled at model creation\n",
      "  warnings.warn(\n"
     ]
    }
   ],
   "source": [
    "# check to see if SimpleExpSmoothing can find the best parmaeters by itself\n",
    "fitSESauto = SimpleExpSmoothing(np.asarray(train)).fit(optimized=True, use_brute = True)\n",
    "fcst_auto_pred = fitSESauto.forecast(30)\n",
    "timeseries_evaluation_metrics_func(test,fcst_auto_pred)"
   ]
  },
  {
   "cell_type": "code",
   "execution_count": 16,
   "metadata": {},
   "outputs": [
    {
     "data": {
      "text/html": [
       "<table class=\"simpletable\">\n",
       "<caption>SimpleExpSmoothing Model Results</caption>\n",
       "<tr>\n",
       "  <th>Dep. Variable:</th>           <td>endog</td>       <th>  No. Observations:  </th>        <td>142</td>      \n",
       "</tr>\n",
       "<tr>\n",
       "  <th>Model:</th>            <td>SimpleExpSmoothing</td> <th>  SSE                </th>      <td>127.868</td>    \n",
       "</tr>\n",
       "<tr>\n",
       "  <th>Optimized:</th>               <td>True</td>        <th>  AIC                </th>      <td>-10.886</td>    \n",
       "</tr>\n",
       "<tr>\n",
       "  <th>Trend:</th>                   <td>None</td>        <th>  BIC                </th>      <td>-4.974</td>     \n",
       "</tr>\n",
       "<tr>\n",
       "  <th>Seasonal:</th>                <td>None</td>        <th>  AICC               </th>      <td>-10.594</td>    \n",
       "</tr>\n",
       "<tr>\n",
       "  <th>Seasonal Periods:</th>        <td>None</td>        <th>  Date:              </th> <td>Tue, 09 Mar 2021</td>\n",
       "</tr>\n",
       "<tr>\n",
       "  <th>Box-Cox:</th>                 <td>False</td>       <th>  Time:              </th>     <td>19:32:02</td>    \n",
       "</tr>\n",
       "<tr>\n",
       "  <th>Box-Cox Coeff.:</th>          <td>None</td>        <th>                     </th>         <td> </td>       \n",
       "</tr>\n",
       "</table>\n",
       "<table class=\"simpletable\">\n",
       "<tr>\n",
       "         <td></td>                 <th>coeff</th>                <th>code</th>               <th>optimized</th>     \n",
       "</tr>\n",
       "<tr>\n",
       "  <th>smoothing_level</th> <td>           1.0000000</td> <td>               alpha</td> <td>                True</td>\n",
       "</tr>\n",
       "<tr>\n",
       "  <th>initial_level</th>   <td>           10.710000</td> <td>                 l.0</td> <td>                True</td>\n",
       "</tr>\n",
       "</table>"
      ],
      "text/plain": [
       "<class 'statsmodels.iolib.summary.Summary'>\n",
       "\"\"\"\n",
       "                       SimpleExpSmoothing Model Results                       \n",
       "==============================================================================\n",
       "Dep. Variable:                  endog   No. Observations:                  142\n",
       "Model:             SimpleExpSmoothing   SSE                            127.868\n",
       "Optimized:                       True   AIC                            -10.886\n",
       "Trend:                           None   BIC                             -4.974\n",
       "Seasonal:                        None   AICC                           -10.594\n",
       "Seasonal Periods:                None   Date:                 Tue, 09 Mar 2021\n",
       "Box-Cox:                        False   Time:                         19:32:02\n",
       "Box-Cox Coeff.:                  None                                         \n",
       "==============================================================================\n",
       "                       coeff                 code              optimized      \n",
       "------------------------------------------------------------------------------\n",
       "smoothing_level            1.0000000                alpha                 True\n",
       "initial_level              10.710000                  l.0                 True\n",
       "------------------------------------------------------------------------------\n",
       "\"\"\""
      ]
     },
     "execution_count": 16,
     "metadata": {},
     "output_type": "execute_result"
    }
   ],
   "source": [
    "fitSESauto.summary()"
   ]
  },
  {
   "cell_type": "code",
   "execution_count": 17,
   "metadata": {},
   "outputs": [],
   "source": [
    "df_fcst_gs_pred = pd.DataFrame(fcst_gs_pred, columns=['Close_grid_search'])\n",
    "df_fcst_gs_pred[\"new_index\"]=range(77, 107)\n",
    "df_fcst_gs_pred = df_fcst_gs_pred.set_index(\"new_index\")\n",
    "\n",
    "df_fcst_auto_pred = pd.DataFrame(fcst_auto_pred, columns=['Close_auto_search'])\n",
    "df_fcst_auto_pred[\"new_index\"]=range(77, 107)\n",
    "df_fcst_auto_pred = df_fcst_auto_pred.set_index(\"new_index\")\n",
    "\n"
   ]
  },
  {
   "cell_type": "code",
   "execution_count": 25,
   "metadata": {},
   "outputs": [
    {
     "data": {
      "image/png": "[encoded data removed]",
      "text/plain": [
       "<Figure size 1152x648 with 1 Axes>"
      ]
     },
     "metadata": {
      "needs_background": "light"
     },
     "output_type": "display_data"
    }
   ],
   "source": [
    "import matplotlib.pyplot as plt\n",
    "get_ipython().run_line_magic('matplotlib', 'inline')\n",
    "plt.rcParams[\"figure.figsize\"] = [16,9]\n",
    "plt.plot(train, label='Train')\n",
    "plt.plot(test, label='Test')\n",
    "#plt.plot(fcst_auto_pred, label='Simple Exponential Smoothing using optimized = True')\n",
    "#plt.plot(fcst_gs_pred, label='Simple Exponential Smoothing using custom grid search')\n",
    "plt.legend(loc='best')\n",
    "plt.show()"
   ]
  },
  {
   "cell_type": "code",
   "execution_count": 19,
   "metadata": {},
   "outputs": [],
   "source": [
    "# Note above needs to fit into the range"
   ]
  },
  {
   "cell_type": "code",
   "execution_count": null,
   "metadata": {},
   "outputs": [],
   "source": []
  }
 ],
 "metadata": {
  "kernelspec": {
   "display_name": "Python 3",
   "language": "python",
   "name": "python3"
  },
  "language_info": {
   "codemirror_mode": {
    "name": "ipython",
    "version": 3
   },
   "file_extension": ".py",
   "mimetype": "text/x-python",
   "name": "python",
   "nbconvert_exporter": "python",
   "pygments_lexer": "ipython3",
   "version": "3.8.5"
  }
 },
 "nbformat": 4,
 "nbformat_minor": 4
}
